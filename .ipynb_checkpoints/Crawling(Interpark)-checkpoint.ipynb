{
 "cells": [
  {
   "cell_type": "markdown",
   "id": "430cec72",
   "metadata": {},
   "source": [
    "# 크롤링 실습(인터파크)"
   ]
  },
  {
   "cell_type": "code",
   "execution_count": 164,
   "id": "33c8fac1",
   "metadata": {},
   "outputs": [],
   "source": [
    "import requests\n",
    "from bs4 import BeautifulSoup\n",
    "\n",
    "res = requests.get('http://shopping.interpark.com/best/main.do?cateNo=01&rankDtlKind=01_000_0000&type=0')\n",
    "soup = BeautifulSoup(res.content, 'html.parser')\n",
    "bestlists = soup.select('div.recommendList')\n",
    "bestitems = bestlists[0]\n",
    "products = bestitems.select('div.infoBox')\n",
    "# print(products)"
   ]
  },
  {
   "cell_type": "code",
   "execution_count": 170,
   "id": "122d8ecb",
   "metadata": {},
   "outputs": [
    {
     "name": "stdout",
     "output_type": "stream",
     "text": [
      "http://shopping.interpark.com//product/productInfo.do?prdNo=8034526392&dispNo=008022001\n"
     ]
    },
    {
     "ename": "TypeError",
     "evalue": "expected string or bytes-like object",
     "output_type": "error",
     "traceback": [
      "\u001b[1;31m---------------------------------------------------------------------------\u001b[0m",
      "\u001b[1;31mTypeError\u001b[0m                                 Traceback (most recent call last)",
      "\u001b[1;32m<ipython-input-170-d8ce36b75c6f>\u001b[0m in \u001b[0;36m<module>\u001b[1;34m\u001b[0m\n\u001b[0;32m     18\u001b[0m     \u001b[0mhref\u001b[0m \u001b[1;33m=\u001b[0m \u001b[1;34m'http://shopping.interpark.com/'\u001b[0m \u001b[1;33m+\u001b[0m \u001b[0mtitle\u001b[0m\u001b[1;33m[\u001b[0m\u001b[1;34m'href'\u001b[0m\u001b[1;33m]\u001b[0m\u001b[1;33m\u001b[0m\u001b[1;33m\u001b[0m\u001b[0m\n\u001b[0;32m     19\u001b[0m     \u001b[0mprint\u001b[0m\u001b[1;33m(\u001b[0m\u001b[0mhref\u001b[0m\u001b[1;33m)\u001b[0m\u001b[1;33m\u001b[0m\u001b[1;33m\u001b[0m\u001b[0m\n\u001b[1;32m---> 20\u001b[1;33m     \u001b[1;32mif\u001b[0m \u001b[0mlink_re\u001b[0m\u001b[1;33m.\u001b[0m\u001b[0mmatch\u001b[0m\u001b[1;33m(\u001b[0m\u001b[1;33m[\u001b[0m\u001b[0mhref\u001b[0m\u001b[1;33m]\u001b[0m\u001b[1;33m)\u001b[0m\u001b[1;33m:\u001b[0m\u001b[1;33m\u001b[0m\u001b[1;33m\u001b[0m\u001b[0m\n\u001b[0m\u001b[0;32m     21\u001b[0m         \u001b[0mres_info\u001b[0m \u001b[1;33m=\u001b[0m \u001b[0mrequests\u001b[0m\u001b[1;33m.\u001b[0m\u001b[0mget\u001b[0m\u001b[1;33m(\u001b[0m\u001b[0mhref\u001b[0m\u001b[1;33m)\u001b[0m\u001b[1;33m\u001b[0m\u001b[1;33m\u001b[0m\u001b[0m\n\u001b[0;32m     22\u001b[0m         \u001b[0msoup_info\u001b[0m \u001b[1;33m=\u001b[0m \u001b[0mBeautifulSoup\u001b[0m\u001b[1;33m(\u001b[0m\u001b[0mres_info\u001b[0m\u001b[1;33m.\u001b[0m\u001b[0mcontent\u001b[0m\u001b[1;33m,\u001b[0m \u001b[1;34m'html.parser'\u001b[0m\u001b[1;33m)\u001b[0m\u001b[1;33m\u001b[0m\u001b[1;33m\u001b[0m\u001b[0m\n",
      "\u001b[1;31mTypeError\u001b[0m: expected string or bytes-like object"
     ]
    }
   ],
   "source": [
    "import requests\n",
    "from bs4 import BeautifulSoup\n",
    "\n",
    "import re\n",
    "link_re = re.compile('^http://')\n",
    "\n",
    "res = requests.get('http://shopping.interpark.com/best/main.do?cateNo=01&rankDtlKind=01_000_0000&type=0')\n",
    "soup = BeautifulSoup(res.content, 'html.parser')\n",
    "bestlists = soup.select('div.recommendList')\n",
    "bestitmes = bestlists[0]\n",
    "products = bestitems.select('ul > li')\n",
    "# print(products)\n",
    "\n",
    "for index, product in enumerate(products):\n",
    "    \n",
    "    title = product.select_one('a.name')\n",
    "    price = product.select_one('div.price > span.number')\n",
    "    href = 'http://shopping.interpark.com/' + title['href']\n",
    "    print(href)\n",
    "    if link_re.match(href):\n",
    "        res_info = requests.get(href)\n",
    "        soup_info = BeautifulSoup(res_info.content, 'html.parser')\n",
    "        o_price = soup_info.select_one(\"#productName > span.subject\")\n",
    "        print(o_price)\n",
    "            \n",
    "#         print(title)\n"
   ]
  },
  {
   "cell_type": "code",
   "execution_count": 144,
   "id": "e0367262",
   "metadata": {},
   "outputs": [
    {
     "name": "stdout",
     "output_type": "stream",
     "text": [
      "None\n"
     ]
    }
   ],
   "source": [
    "res_info = requests.get(href)\n",
    "soup_info = BeautifulSoup(res_info.content, 'html.parser')\n",
    "O_price = soup_info.select_one(\"span.originPrice > em\")\n",
    "print(O_price)"
   ]
  },
  {
   "cell_type": "code",
   "execution_count": 56,
   "id": "abb0eb84",
   "metadata": {},
   "outputs": [
    {
     "name": "stdout",
     "output_type": "stream",
     "text": [
      "48,460\n",
      "37,870\n",
      "26,450\n",
      "39,000\n",
      "28,410\n",
      "58,170\n",
      "34,530\n",
      "175,950\n",
      "48,550\n",
      "194,010\n",
      "1,130,000\n",
      "61,090\n",
      "79,200\n",
      "56,320\n",
      "5,190\n",
      "21,560\n",
      "35,260\n",
      "21,560\n",
      "37,510\n",
      "47,490\n",
      "19,350\n",
      "2,700\n",
      "46,060\n",
      "56,240\n",
      "29,350\n",
      "21,200\n",
      "38,750\n",
      "32,090\n",
      "51,590\n",
      "14,350\n",
      "62,910\n",
      "25,850\n",
      "51,760\n",
      "40,450\n",
      "7,100\n",
      "96,130\n",
      "69,300\n",
      "57,680\n",
      "28,610\n",
      "49,270\n",
      "7,200\n",
      "24,350\n",
      "21,850\n",
      "18,460\n",
      "28,410\n",
      "50,250\n",
      "18,620\n",
      "32,420\n",
      "46,410\n",
      "9,510\n",
      "356,960\n",
      "873,080\n",
      "33,030\n",
      "29,580\n",
      "59,130\n",
      "36,810\n",
      "69,900\n",
      "13,700\n",
      "40,690\n",
      "50,040\n",
      "42,120\n",
      "69,300\n",
      "19,450\n",
      "96,130\n",
      "39,020\n",
      "180,180\n",
      "58,170\n",
      "7,550\n",
      "118,440\n",
      "85,680\n",
      "72,880\n",
      "74,320\n",
      "40,300\n",
      "26,440\n",
      "5,180\n",
      "57,290\n",
      "30,290\n",
      "110,860\n",
      "101,130\n",
      "12,200\n",
      "83,100\n",
      "59,430\n",
      "54,430\n",
      "50,320\n",
      "32,090\n",
      "7,200\n",
      "13,840\n",
      "361,100\n",
      "175,060\n",
      "680,250\n",
      "86,860\n",
      "94,050\n",
      "86,420\n",
      "346,500\n",
      "316,160\n",
      "38,220\n",
      "35,100\n",
      "119,190\n",
      "21,200\n",
      "13,700\n"
     ]
    }
   ],
   "source": [
    "import requests\n",
    "from bs4 import BeautifulSoup\n",
    "\n",
    "import re\n",
    "link_re = re.compile('^http://')\n",
    "\n",
    "res = requests.get('http://shopping.interpark.com/best/main.do?cateNo=01&rankDtlKind=01_000_0000&type=0')\n",
    "soup = BeautifulSoup(res.content, 'html.parser')\n",
    "bestlists = soup.select('div.recommendList')\n",
    "#bestitems = bestlists[0]\n",
    "for p in bestlists:\n",
    "    price = p.select('span.number')\n",
    "    for p2 in price:\n",
    "        print(p2.get_text())\n",
    "\n",
    "#products = bestitems.select('div.infoBox > a')\n",
    "\n",
    "# print(products)\n",
    "\n",
    "for index, product in enumerate(products):\n",
    "    title = product.select_one('a.name')\n",
    "#     price = product.select_one('div.price > span.number')\n",
    "#     if link_re.match(title['href']):\n",
    "#         res_info = requests.get(title['href'])\n",
    "#         soup_info = BeautifulSoup(res_info.content, 'html.parser')\n",
    "#         provider_info = soup_info.select_one(\"div.priceUpper > span.originPrice > em\")\n",
    "#         print(title.get_text(), price.get_text(), title['href'], provider_info.get_text())\n",
    "    #print(title)\n",
    "    \n",
    "    \n",
    "#     if link_re.match(title['href']):\n",
    "#         res_info = requests.get(title['href'])\n",
    "#         soup_info = BeautifulSoup(res_info.content, 'html.parser')\n",
    "#         O_price = soup_info.select_one(\"div.priceUpper > span.originPrice > em\")\n",
    "#         print(title.get_text(), price.get_text(), title['href'], O_price.get_text())"
   ]
  }
 ],
 "metadata": {
  "kernelspec": {
   "display_name": "Python 3",
   "language": "python",
   "name": "python3"
  },
  "language_info": {
   "codemirror_mode": {
    "name": "ipython",
    "version": 3
   },
   "file_extension": ".py",
   "mimetype": "text/x-python",
   "name": "python",
   "nbconvert_exporter": "python",
   "pygments_lexer": "ipython3",
   "version": "3.8.9"
  }
 },
 "nbformat": 4,
 "nbformat_minor": 5
}
